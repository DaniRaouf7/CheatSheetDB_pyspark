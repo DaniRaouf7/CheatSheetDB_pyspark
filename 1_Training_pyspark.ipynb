{
 "cells": [
  {
   "cell_type": "markdown",
   "metadata": {
    "application/vnd.databricks.v1+cell": {
     "cellMetadata": {},
     "inputWidgets": {},
     "nuid": "ca41ea28-c931-4432-a927-80dfeca45b1c",
     "showTitle": false,
     "tableResultSettingsMap": {},
     "title": ""
    }
   },
   "source": [
    "## Imports"
   ]
  },
  {
   "cell_type": "code",
   "execution_count": 0,
   "metadata": {
    "application/vnd.databricks.v1+cell": {
     "cellMetadata": {
      "byteLimit": 2048000,
      "rowLimit": 10000
     },
     "inputWidgets": {},
     "nuid": "eeb7ff64-def7-4fd0-9269-e05c8d1321a6",
     "showTitle": false,
     "tableResultSettingsMap": {},
     "title": ""
    }
   },
   "outputs": [],
   "source": [
    "from pyspark.sql.functions import *\n",
    "from pyspark.sql.types import *\n",
    "from pyspark.sql.window import *"
   ]
  },
  {
   "cell_type": "markdown",
   "metadata": {
    "application/vnd.databricks.v1+cell": {
     "cellMetadata": {},
     "inputWidgets": {},
     "nuid": "432bbcd2-8a97-41e5-9c44-d96f3614b867",
     "showTitle": false,
     "tableResultSettingsMap": {},
     "title": ""
    }
   },
   "source": [
    "## DB utils functions"
   ]
  },
  {
   "cell_type": "code",
   "execution_count": 0,
   "metadata": {
    "application/vnd.databricks.v1+cell": {
     "cellMetadata": {
      "byteLimit": 2048000,
      "rowLimit": 10000
     },
     "collapsed": true,
     "inputWidgets": {},
     "nuid": "306a16d2-c491-4f7e-8d57-6ffa59cc570f",
     "showTitle": false,
     "tableResultSettingsMap": {},
     "title": ""
    }
   },
   "outputs": [
    {
     "output_type": "execute_result",
     "data": {
      "text/plain": [
       "[FileInfo(path='dbfs:/FileStore/tables/BigMart_Sales.csv', name='BigMart_Sales.csv', size=869537, modificationTime=1740823896000),\n",
       " FileInfo(path='dbfs:/FileStore/tables/drivers.json', name='drivers.json', size=180812, modificationTime=1740825727000)]"
      ]
     },
     "execution_count": 5,
     "metadata": {},
     "output_type": "execute_result"
    }
   ],
   "source": [
    "# Which Files?\n",
    "dbutils.fs.ls(\"/FileStore/tables/\")"
   ]
  },
  {
   "cell_type": "markdown",
   "metadata": {
    "application/vnd.databricks.v1+cell": {
     "cellMetadata": {},
     "inputWidgets": {},
     "nuid": "b91170b1-462d-4480-b6e1-34ef8a0a180d",
     "showTitle": false,
     "tableResultSettingsMap": {},
     "title": ""
    }
   },
   "source": [
    "## Reading different file formats"
   ]
  },
  {
   "cell_type": "code",
   "execution_count": 0,
   "metadata": {
    "application/vnd.databricks.v1+cell": {
     "cellMetadata": {
      "byteLimit": 2048000,
      "rowLimit": 10000
     },
     "inputWidgets": {},
     "nuid": "c9a7e5e1-7d11-49c4-a892-d59bff152d1d",
     "showTitle": false,
     "tableResultSettingsMap": {},
     "title": ""
    }
   },
   "outputs": [],
   "source": [
    "# CSV\n",
    "df_csv = spark.read.format(\"csv\")\\\n",
    "    .option(\"header\", \"true\")\\\n",
    "    .option(\"inferSchema\", \"true\")\\\n",
    "    .load(\"/FileStore/tables/BigMart_Sales.csv\")"
   ]
  },
  {
   "cell_type": "code",
   "execution_count": 0,
   "metadata": {
    "application/vnd.databricks.v1+cell": {
     "cellMetadata": {
      "byteLimit": 2048000,
      "rowLimit": 10000
     },
     "inputWidgets": {},
     "nuid": "01575cc7-d0fe-4bd1-b98f-f57a0a64a63f",
     "showTitle": false,
     "tableResultSettingsMap": {},
     "title": ""
    }
   },
   "outputs": [],
   "source": [
    "# JSON\n",
    "df_json = spark.read.format(\"json\")\\\n",
    "    .option(\"inferSchema\", \"true\")\\\n",
    "    .option(\"header\", \"true\")\\\n",
    "    .option(\"multiLine\", \"false\")\\\n",
    "    .load(\"/FileStore/tables/drivers.json\")\n",
    "    "
   ]
  },
  {
   "cell_type": "markdown",
   "metadata": {
    "application/vnd.databricks.v1+cell": {
     "cellMetadata": {},
     "inputWidgets": {},
     "nuid": "8756e865-505f-42ff-aebd-d48668de9ffc",
     "showTitle": false,
     "tableResultSettingsMap": {},
     "title": ""
    }
   },
   "source": [
    "## Define own schema?!?"
   ]
  },
  {
   "cell_type": "code",
   "execution_count": 0,
   "metadata": {
    "application/vnd.databricks.v1+cell": {
     "cellMetadata": {
      "byteLimit": 2048000,
      "rowLimit": 10000
     },
     "collapsed": true,
     "inputWidgets": {},
     "nuid": "90aac930-c7a5-437c-858e-e3470ff1d665",
     "showTitle": false,
     "tableResultSettingsMap": {},
     "title": ""
    }
   },
   "outputs": [
    {
     "output_type": "stream",
     "name": "stdout",
     "output_type": "stream",
     "text": [
      "root\n |-- Item_Identifier: string (nullable = true)\n |-- Item_Weight: double (nullable = true)\n |-- Item_Fat_Content: string (nullable = true)\n |-- Item_Visibility: double (nullable = true)\n |-- Item_Type: string (nullable = true)\n |-- Item_MRP: double (nullable = true)\n |-- Outlet_Identifier: string (nullable = true)\n |-- Outlet_Establishment_Year: integer (nullable = true)\n |-- Outlet_Size: string (nullable = true)\n |-- Outlet_Location_Type: string (nullable = true)\n |-- Outlet_Type: string (nullable = true)\n |-- Item_Outlet_Sales: double (nullable = true)\n\n"
     ]
    }
   ],
   "source": [
    "df_csv.printSchema()"
   ]
  },
  {
   "cell_type": "code",
   "execution_count": 0,
   "metadata": {
    "application/vnd.databricks.v1+cell": {
     "cellMetadata": {
      "byteLimit": 2048000,
      "rowLimit": 10000
     },
     "collapsed": true,
     "inputWidgets": {},
     "nuid": "a038c7d4-0470-45a8-a676-cc8a2a29209f",
     "showTitle": false,
     "tableResultSettingsMap": {},
     "title": ""
    }
   },
   "outputs": [],
   "source": [
    "#DDL\n",
    "\n",
    "ddl_schema = \"\"\" \n",
    "                Item_Identifier STRING,\n",
    "                Item_Weight STRING,\n",
    "                Item_Fat_Content STRING,\n",
    "                Item_Visibility DOUBLE,\n",
    "                Item_Type STRING,\n",
    "                Item_MRP DOUBLE,\n",
    "                Outlet_Identifier STRING,\n",
    "                Outlet_Establishment_Year INTEGER,\n",
    "                Outlet_Size STRING,\n",
    "                Outlet_Location_Type STRING,\n",
    "                Outlet_Type STRING,\n",
    "                Item_Outlet_Sales DOUBLE\n",
    "\"\"\"\n",
    "\n",
    "df_test = spark.read.format(\"csv\")\\\n",
    "     .option(\"header\", \"true\")\\\n",
    "     .schema(ddl_schema)\\\n",
    "     .load(\"/FileStore/tables/BigMart_Sales.csv\")\n",
    "         "
   ]
  },
  {
   "cell_type": "code",
   "execution_count": 0,
   "metadata": {
    "application/vnd.databricks.v1+cell": {
     "cellMetadata": {
      "byteLimit": 2048000,
      "rowLimit": 10000
     },
     "collapsed": true,
     "inputWidgets": {},
     "nuid": "fd2552e8-8800-45a9-9c2c-4f9fd45c50a2",
     "showTitle": false,
     "tableResultSettingsMap": {},
     "title": ""
    }
   },
   "outputs": [
    {
     "output_type": "stream",
     "name": "stdout",
     "output_type": "stream",
     "text": [
      "root\n |-- Item_Identifier: string (nullable = true)\n |-- Item_Weight: string (nullable = true)\n |-- Item_Fat_Content: string (nullable = true)\n |-- Item_Visibility: double (nullable = true)\n |-- Item_Type: string (nullable = true)\n |-- Item_MRP: double (nullable = true)\n |-- Outlet_Identifier: string (nullable = true)\n |-- Outlet_Establishment_Year: integer (nullable = true)\n |-- Outlet_Size: string (nullable = true)\n |-- Outlet_Location_Type: string (nullable = true)\n |-- Outlet_Type: string (nullable = true)\n |-- Item_Outlet_Sales: double (nullable = true)\n\n"
     ]
    }
   ],
   "source": [
    "df_test.printSchema()"
   ]
  },
  {
   "cell_type": "markdown",
   "metadata": {
    "application/vnd.databricks.v1+cell": {
     "cellMetadata": {},
     "inputWidgets": {},
     "nuid": "a6f5937d-ac4f-416b-95f6-9d0322f8cd79",
     "showTitle": false,
     "tableResultSettingsMap": {},
     "title": ""
    }
   },
   "source": [
    "## Basic Transformations"
   ]
  },
  {
   "cell_type": "code",
   "execution_count": 0,
   "metadata": {
    "application/vnd.databricks.v1+cell": {
     "cellMetadata": {
      "byteLimit": 2048000,
      "rowLimit": 10000
     },
     "inputWidgets": {},
     "nuid": "c317fd62-def3-4129-94a1-1699d1e33a56",
     "showTitle": false,
     "tableResultSettingsMap": {},
     "title": ""
    }
   },
   "outputs": [
    {
     "output_type": "display_data",
     "data": {
      "text/html": [
       "<style scoped>\n",
       "  .table-result-container {\n",
       "    max-height: 300px;\n",
       "    overflow: auto;\n",
       "  }\n",
       "  table, th, td {\n",
       "    border: 1px solid black;\n",
       "    border-collapse: collapse;\n",
       "  }\n",
       "  th, td {\n",
       "    padding: 5px;\n",
       "  }\n",
       "  th {\n",
       "    text-align: left;\n",
       "  }\n",
       "</style><div class='table-result-container'><table class='table-result'><thead style='background-color: white'><tr><th>Item_Identifier</th><th>Item_Weight</th><th>Item_Fat_Content</th><th>Item_Visibility</th><th>Item_Type</th><th>Item_MRP</th><th>Outlet_Identifier</th><th>Outlet_Establishment_Year</th><th>Outlet_Size</th><th>Outlet_Location_Type</th><th>Outlet_Type</th><th>Item_Outlet_Sales</th></tr></thead><tbody><tr><td>FDA15</td><td>9.3</td><td>Low Fat</td><td>0.016047301</td><td>Dairy</td><td>249.8092</td><td>OUT049</td><td>1999</td><td>Medium</td><td>Tier 1</td><td>Supermarket Type1</td><td>3735.138</td></tr><tr><td>FDA15</td><td>9.3</td><td>Low Fat</td><td>0.016054884</td><td>Dairy</td><td>250.2092</td><td>OUT045</td><td>2002</td><td>null</td><td>Tier 2</td><td>Supermarket Type1</td><td>5976.2208</td></tr><tr><td>FDA15</td><td>9.3</td><td>Low Fat</td><td>0.01601936</td><td>Dairy</td><td>248.5092</td><td>OUT035</td><td>2004</td><td>Small</td><td>Tier 2</td><td>Supermarket Type1</td><td>6474.2392</td></tr><tr><td>FDA15</td><td>9.3</td><td>Low Fat</td><td>0.016087659</td><td>Dairy</td><td>249.6092</td><td>OUT018</td><td>2009</td><td>Medium</td><td>Tier 3</td><td>Supermarket Type2</td><td>5976.2208</td></tr><tr><td>FDA15</td><td>9.3</td><td>Low Fat</td><td>0.026818196</td><td>Dairy</td><td>248.9092</td><td>OUT010</td><td>1998</td><td>null</td><td>Tier 3</td><td>Grocery Store</td><td>498.0184</td></tr><tr><td>FDA15</td><td>9.3</td><td>Low Fat</td><td>0.016009057</td><td>Dairy</td><td>250.6092</td><td>OUT013</td><td>1987</td><td>High</td><td>Tier 3</td><td>Supermarket Type1</td><td>6474.2392</td></tr><tr><td>FDA15</td><td>null</td><td>Low Fat</td><td>0.015944801</td><td>Dairy</td><td>249.5092</td><td>OUT027</td><td>1985</td><td>Medium</td><td>Tier 3</td><td>Supermarket Type3</td><td>6474.2392</td></tr><tr><td>FDA15</td><td>9.3</td><td>LF</td><td>0.016113019</td><td>Dairy</td><td>248.8092</td><td>OUT017</td><td>2007</td><td>null</td><td>Tier 2</td><td>Supermarket Type1</td><td>5976.2208</td></tr></tbody></table></div>"
      ]
     },
     "metadata": {
      "application/vnd.databricks.v1+output": {
       "addedWidgets": {},
       "aggData": [],
       "aggError": "",
       "aggOverflow": false,
       "aggSchema": [],
       "aggSeriesLimitReached": false,
       "aggType": "",
       "arguments": {},
       "columnCustomDisplayInfos": {},
       "data": [
        [
         "FDA15",
         9.3,
         "Low Fat",
         0.016047301,
         "Dairy",
         249.8092,
         "OUT049",
         1999,
         "Medium",
         "Tier 1",
         "Supermarket Type1",
         3735.138
        ],
        [
         "FDA15",
         9.3,
         "Low Fat",
         0.016054884,
         "Dairy",
         250.2092,
         "OUT045",
         2002,
         null,
         "Tier 2",
         "Supermarket Type1",
         5976.2208
        ],
        [
         "FDA15",
         9.3,
         "Low Fat",
         0.01601936,
         "Dairy",
         248.5092,
         "OUT035",
         2004,
         "Small",
         "Tier 2",
         "Supermarket Type1",
         6474.2392
        ],
        [
         "FDA15",
         9.3,
         "Low Fat",
         0.016087659,
         "Dairy",
         249.6092,
         "OUT018",
         2009,
         "Medium",
         "Tier 3",
         "Supermarket Type2",
         5976.2208
        ],
        [
         "FDA15",
         9.3,
         "Low Fat",
         0.026818196,
         "Dairy",
         248.9092,
         "OUT010",
         1998,
         null,
         "Tier 3",
         "Grocery Store",
         498.0184
        ],
        [
         "FDA15",
         9.3,
         "Low Fat",
         0.016009057,
         "Dairy",
         250.6092,
         "OUT013",
         1987,
         "High",
         "Tier 3",
         "Supermarket Type1",
         6474.2392
        ],
        [
         "FDA15",
         null,
         "Low Fat",
         0.015944801,
         "Dairy",
         249.5092,
         "OUT027",
         1985,
         "Medium",
         "Tier 3",
         "Supermarket Type3",
         6474.2392
        ],
        [
         "FDA15",
         9.3,
         "LF",
         0.016113019,
         "Dairy",
         248.8092,
         "OUT017",
         2007,
         null,
         "Tier 2",
         "Supermarket Type1",
         5976.2208
        ]
       ],
       "datasetInfos": [],
       "dbfsResultPath": null,
       "isJsonSchema": true,
       "metadata": {},
       "overflow": false,
       "plotOptions": {
        "customPlotOptions": {},
        "displayType": "table",
        "pivotAggregation": null,
        "pivotColumns": null,
        "xColumns": null,
        "yColumns": null
       },
       "removedWidgets": [],
       "schema": [
        {
         "metadata": "{}",
         "name": "Item_Identifier",
         "type": "\"string\""
        },
        {
         "metadata": "{}",
         "name": "Item_Weight",
         "type": "\"double\""
        },
        {
         "metadata": "{}",
         "name": "Item_Fat_Content",
         "type": "\"string\""
        },
        {
         "metadata": "{}",
         "name": "Item_Visibility",
         "type": "\"double\""
        },
        {
         "metadata": "{}",
         "name": "Item_Type",
         "type": "\"string\""
        },
        {
         "metadata": "{}",
         "name": "Item_MRP",
         "type": "\"double\""
        },
        {
         "metadata": "{}",
         "name": "Outlet_Identifier",
         "type": "\"string\""
        },
        {
         "metadata": "{}",
         "name": "Outlet_Establishment_Year",
         "type": "\"integer\""
        },
        {
         "metadata": "{}",
         "name": "Outlet_Size",
         "type": "\"string\""
        },
        {
         "metadata": "{}",
         "name": "Outlet_Location_Type",
         "type": "\"string\""
        },
        {
         "metadata": "{}",
         "name": "Outlet_Type",
         "type": "\"string\""
        },
        {
         "metadata": "{}",
         "name": "Item_Outlet_Sales",
         "type": "\"double\""
        }
       ],
       "type": "table"
      }
     },
     "output_type": "display_data"
    }
   ],
   "source": [
    "# Select specific columns\n",
    "df_csv.select(col(\"item_identifier\"), col(\"item_weight\"), col(\"item_fat_content\"))\n",
    "\n",
    "# Renaming\n",
    "df_csv.withColumnRenamed(\"item_identifier\", \"Item_ID\")\n",
    "\n",
    "# Filter/ Where\n",
    "df_csv.filter(col(\"item_identifier\") == \"FDA15\")\n"
   ]
  }
 ],
 "metadata": {
  "application/vnd.databricks.v1+notebook": {
   "computePreferences": null,
   "dashboards": [],
   "environmentMetadata": {
    "base_environment": "",
    "environment_version": "2"
   },
   "language": "python",
   "notebookMetadata": {
    "pythonIndentUnit": 4
   },
   "notebookName": "1_Training_pyspark",
   "widgets": {}
  },
  "language_info": {
   "name": "python"
  }
 },
 "nbformat": 4,
 "nbformat_minor": 0
}